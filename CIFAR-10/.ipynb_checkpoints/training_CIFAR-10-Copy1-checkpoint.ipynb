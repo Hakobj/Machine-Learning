{
 "cells": [
  {
   "cell_type": "code",
   "execution_count": 140,
   "metadata": {},
   "outputs": [],
   "source": [
    "import numpy as np\n",
    "import matplotlib.pyplot as plt\n",
    "import pandas as pd\n",
    "import tensorflow as tf\n",
    "import keras\n",
    "from keras.models import Sequential\n",
    "from keras.layers import Dense, Dropout, Flatten\n",
    "from keras.layers import Conv2D, MaxPooling2D\n",
    "from keras.optimizers import SGD"
   ]
  },
  {
   "cell_type": "code",
   "execution_count": 213,
   "metadata": {},
   "outputs": [],
   "source": [
    "(x_train, y_train), (x_test, y_test) = cifar10.load_data()"
   ]
  },
  {
   "cell_type": "code",
   "execution_count": 214,
   "metadata": {},
   "outputs": [],
   "source": [
    "### random shuffle data ###\n",
    "m = x_train.shape[0]\n",
    "randomize = np.arange(0, m, 1)\n",
    "np.random.shuffle(randomize)\n",
    "x_train = x_train[ramdomize]\n",
    "y_train = y_train[ramdomize]\n",
    "# vizualize_images()"
   ]
  },
  {
   "cell_type": "code",
   "execution_count": 215,
   "metadata": {},
   "outputs": [],
   "source": [
    "### Normalization ###\n",
    "x_train = x_train.astype(\"float64\")\n",
    "y_train = y_train.astype(\"float64\")\n",
    "x_test = x_train.astype(\"float64\")\n",
    "y_test = y_train.astype(\"float64\")\n",
    "x_train /= 255\n",
    "x_test /= 255"
   ]
  },
  {
   "cell_type": "code",
   "execution_count": 216,
   "metadata": {},
   "outputs": [],
   "source": [
    "### One-hot encoding data labels ###\n",
    "y_train = keras.utils.to_categorical(y_train, num_classes=10, dtype='float32')\n",
    "y_test = keras.utils.to_categorical(y_test, num_classes=10, dtype='float32')"
   ]
  },
  {
   "cell_type": "code",
   "execution_count": 217,
   "metadata": {},
   "outputs": [],
   "source": [
    "### split data into development, validation and training sets ###\n",
    "x_dev = x_train[:1000]\n",
    "y_dev = y_train[:1000]\n",
    "\n",
    "x_val = x_train[int((4 / 5) * m):]\n",
    "y_val = y_train[int((4 / 5) * m):]\n",
    "\n",
    "x_train = x_train[:int((4 / 5) * m)]\n",
    "y_train = y_train[:int((4 / 5) * m)]"
   ]
  },
  {
   "cell_type": "code",
   "execution_count": 218,
   "metadata": {
    "scrolled": true
   },
   "outputs": [
    {
     "name": "stdout",
     "output_type": "stream",
     "text": [
      "training data shape is: (40000, 32, 32, 3)\n",
      "training label shape is: (40000, 10)\n",
      "validation data shape is: (10000, 32, 32, 3)\n",
      "validation label shape is: (10000, 10)\n",
      "testing data shape is: (50000, 32, 32, 3)\n",
      "testing label shape is: (50000, 10)\n"
     ]
    }
   ],
   "source": [
    "print(\"training data shape is:\", x_train.shape)\n",
    "print(\"training label shape is:\", y_train.shape)\n",
    "print(\"validation data shape is:\", x_val.shape)\n",
    "print(\"validation label shape is:\", y_val.shape)\n",
    "print(\"testing data shape is:\", x_test.shape)\n",
    "print(\"testing label shape is:\", y_test.shape)"
   ]
  },
  {
   "cell_type": "code",
   "execution_count": 116,
   "metadata": {},
   "outputs": [],
   "source": [
    "def vizualize_images():\n",
    "    fig=plt.figure(figsize=(10, 10))\n",
    "    columns = 4\n",
    "    rows = 5\n",
    "\n",
    "    for i in range(1, 21):\n",
    "        img_ind = np.random.randint(1, x_train.shape[0], 21)\n",
    "        fig.add_subplot(rows, columns, i)\n",
    "        plt.imshow(x_train[img_ind[i]])"
   ]
  },
  {
   "cell_type": "code",
   "execution_count": 219,
   "metadata": {},
   "outputs": [],
   "source": [
    "model = Sequential()\n",
    "model.add(Conv2D(32, (3, 3), activation='relu', strides=[1, 1], padding='same', input_shape=x_train.shape[1:]))\n",
    "model.add(Conv2D(32, (3, 3), activation='relu', strides=[1, 1], padding='same'))\n",
    "model.add(MaxPooling2D(pool_size=(2, 2)))\n",
    "model.add(Conv2D(64, (3, 3), activation='relu', strides=[1, 1], padding='same'))\n",
    "model.add(Conv2D(64, (3, 3), activation='relu', strides=[1, 1], padding='same'))\n",
    "model.add(MaxPooling2D(pool_size=(2, 2)))\n",
    "model.add(Conv2D(128, (3, 3), activation='relu', strides=[1, 1], padding='same'))\n",
    "model.add(Conv2D(128, (3, 3), activation='relu', strides=[1, 1], padding='same'))\n",
    "# model.add(Dropout(0.2))\n",
    "model.add(Flatten())\n",
    "model.add(Dense(10, activation='softmax'))"
   ]
  },
  {
   "cell_type": "code",
   "execution_count": 223,
   "metadata": {
    "scrolled": false
   },
   "outputs": [
    {
     "name": "stdout",
     "output_type": "stream",
     "text": [
      "Train on 40000 samples, validate on 10000 samples\n",
      "Epoch 1/5\n",
      "40000/40000 [==============================] - 337s 8ms/step - loss: 1.7419 - acc: 0.3558 - val_loss: 1.4009 - val_acc: 0.4935\n",
      "Epoch 2/5\n",
      "40000/40000 [==============================] - 353s 9ms/step - loss: 1.3924 - acc: 0.4947 - val_loss: 1.2246 - val_acc: 0.5601\n",
      "Epoch 3/5\n",
      "40000/40000 [==============================] - 371s 9ms/step - loss: 1.1979 - acc: 0.5701 - val_loss: 1.0706 - val_acc: 0.6158\n",
      "Epoch 4/5\n",
      "40000/40000 [==============================] - 342s 9ms/step - loss: 1.0744 - acc: 0.6170 - val_loss: 0.9116 - val_acc: 0.6751\n",
      "Epoch 5/5\n",
      "40000/40000 [==============================] - 344s 9ms/step - loss: 0.9923 - acc: 0.6498 - val_loss: 0.9059 - val_acc: 0.6771\n"
     ]
    },
    {
     "data": {
      "text/plain": [
       "<keras.callbacks.History at 0x132870c18>"
      ]
     },
     "execution_count": 223,
     "metadata": {},
     "output_type": "execute_result"
    }
   ],
   "source": [
    "sgd = SGD(lr=0.01, decay=1e-6, momentum=0.9, nesterov=True)\n",
    "model.compile(loss='categorical_crossentropy', optimizer=sgd, metrics=['accuracy'])\n",
    "\n",
    "model.fit(x_train, y_train, batch_size=32, epochs=10, validation_data=(x_val, y_val))"
   ]
  },
  {
   "cell_type": "code",
   "execution_count": 176,
   "metadata": {
    "scrolled": false
   },
   "outputs": [
    {
     "name": "stdout",
     "output_type": "stream",
     "text": [
      "10000/10000 [==============================] - 25s 2ms/step\n"
     ]
    },
    {
     "data": {
      "text/plain": [
       "[12.147351828765869, 0.2335]"
      ]
     },
     "execution_count": 176,
     "metadata": {},
     "output_type": "execute_result"
    }
   ],
   "source": [
    "scores, acc = model.evaluate(x_test, y_test, batch_size=32)"
   ]
  },
  {
   "cell_type": "code",
   "execution_count": null,
   "metadata": {},
   "outputs": [],
   "source": [
    "print(acc)"
   ]
  }
 ],
 "metadata": {
  "kernelspec": {
   "display_name": "Python 3",
   "language": "python",
   "name": "python3"
  },
  "language_info": {
   "codemirror_mode": {
    "name": "ipython",
    "version": 3
   },
   "file_extension": ".py",
   "mimetype": "text/x-python",
   "name": "python",
   "nbconvert_exporter": "python",
   "pygments_lexer": "ipython3",
   "version": "3.6.4"
  }
 },
 "nbformat": 4,
 "nbformat_minor": 2
}
