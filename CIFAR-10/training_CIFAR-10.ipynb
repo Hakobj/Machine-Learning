{
 "cells": [
  {
   "cell_type": "code",
   "execution_count": 298,
   "metadata": {},
   "outputs": [],
   "source": [
    "import numpy as np\n",
    "import matplotlib.pyplot as plt\n",
    "import pandas as pd\n",
    "import tensorflow as tf\n",
    "import keras\n",
    "from keras.models import Sequential\n",
    "from keras.layers import Dense, Dropout, Flatten\n",
    "from keras.layers import Conv2D, MaxPooling2D, AveragePooling2D\n",
    "from keras.optimizers import SGD\n",
    "from keras.layers.normalization import BatchNormalization"
   ]
  },
  {
   "cell_type": "code",
   "execution_count": 239,
   "metadata": {},
   "outputs": [],
   "source": [
    "(x_train, y_train), (x_test, y_test) = cifar10.load_data()"
   ]
  },
  {
   "cell_type": "code",
   "execution_count": 240,
   "metadata": {},
   "outputs": [],
   "source": [
    "### random shuffle data ###\n",
    "m = x_train.shape[0]\n",
    "randomize = np.arange(0, m, 1)\n",
    "np.random.shuffle(randomize)\n",
    "x_train = x_train[randomize]\n",
    "y_train = y_train[randomize]\n",
    "# vizualize_images()"
   ]
  },
  {
   "cell_type": "code",
   "execution_count": 241,
   "metadata": {},
   "outputs": [],
   "source": [
    "### Normalization ###\n",
    "x_train = x_train.astype(\"float64\")\n",
    "y_train = y_train.astype(\"float64\")\n",
    "x_test = x_test.astype(\"float64\")\n",
    "y_test = y_test.astype(\"float64\")\n",
    "x_train /= 255\n",
    "x_test /= 255"
   ]
  },
  {
   "cell_type": "code",
   "execution_count": 242,
   "metadata": {},
   "outputs": [],
   "source": [
    "### One-hot encoding data labels ###\n",
    "y_train = keras.utils.to_categorical(y_train, num_classes=10, dtype='float32')\n",
    "y_test = keras.utils.to_categorical(y_test, num_classes=10, dtype='float32')"
   ]
  },
  {
   "cell_type": "code",
   "execution_count": 243,
   "metadata": {},
   "outputs": [],
   "source": [
    "### split data into development, validation and training sets ###\n",
    "x_dev = x_train[:1000]\n",
    "y_dev = y_train[:1000]\n",
    "\n",
    "x_val = x_train[int((4 / 5) * m):]\n",
    "y_val = y_train[int((4 / 5) * m):]\n",
    "\n",
    "x_train = x_train[:int((4 / 5) * m)]\n",
    "y_train = y_train[:int((4 / 5) * m)]"
   ]
  },
  {
   "cell_type": "code",
   "execution_count": 244,
   "metadata": {
    "scrolled": true
   },
   "outputs": [
    {
     "name": "stdout",
     "output_type": "stream",
     "text": [
      "training data shape is: (40000, 32, 32, 3)\n",
      "training label shape is: (40000, 10)\n",
      "validation data shape is: (10000, 32, 32, 3)\n",
      "validation label shape is: (10000, 10)\n",
      "testing data shape is: (10000, 32, 32, 3)\n",
      "testing label shape is: (10000, 10)\n"
     ]
    }
   ],
   "source": [
    "print(\"training data shape is:\", x_train.shape)\n",
    "print(\"training label shape is:\", y_train.shape)\n",
    "print(\"validation data shape is:\", x_val.shape)\n",
    "print(\"validation label shape is:\", y_val.shape)\n",
    "print(\"testing data shape is:\", x_test.shape)\n",
    "print(\"testing label shape is:\", y_test.shape)"
   ]
  },
  {
   "cell_type": "code",
   "execution_count": 116,
   "metadata": {},
   "outputs": [],
   "source": [
    "def vizualize_images():\n",
    "    fig=plt.figure(figsize=(10, 10))\n",
    "    columns = 4\n",
    "    rows = 5\n",
    "\n",
    "    for i in range(1, 21):\n",
    "        img_ind = np.random.randint(1, x_train.shape[0], 21)\n",
    "        fig.add_subplot(rows, columns, i)\n",
    "        plt.imshow(x_train[img_ind[i]])"
   ]
  },
  {
   "cell_type": "code",
   "execution_count": 295,
   "metadata": {},
   "outputs": [],
   "source": [
    "def VGG_like():\n",
    "    model = Sequential()\n",
    "    model.add(BatchNormalization())\n",
    "    model.add(Conv2D(32, (3, 3), activation='relu', strides=[1, 1], padding='same', input_shape=x_train.shape[1:]))\n",
    "    model.add(Conv2D(32, (3, 3), activation='relu', strides=[1, 1], padding='same'))\n",
    "    model.add(MaxPooling2D(pool_size=(2, 2)))\n",
    "    model.add(BatchNormalization())\n",
    "    model.add(Conv2D(64, (3, 3), activation='relu', strides=[1, 1], padding='same'))\n",
    "    model.add(Conv2D(64, (3, 3), activation='relu', strides=[1, 1], padding='same'))\n",
    "    model.add(MaxPooling2D(pool_size=(2, 2)))\n",
    "    model.add(BatchNormalization())\n",
    "    model.add(Dropout(0.25))\n",
    "    model.add(Conv2D(128, (3, 3), activation='relu', strides=[1, 1], padding='same'))\n",
    "    model.add(Conv2D(128, (3, 3), activation='relu', strides=[1, 1], padding='same'))\n",
    "    model.add(BatchNormalization())\n",
    "    model.add(Dropout(0.25))\n",
    "    model.add(Flatten())\n",
    "    model.add(Dense(10, activation='softmax'))"
   ]
  },
  {
   "cell_type": "code",
   "execution_count": 296,
   "metadata": {},
   "outputs": [],
   "source": [
    "def AlexNet():\n",
    "    model = Sequential()\n",
    "    model.add(Conv2D(96, (11, 11), activation='relu', strides=[1, 1], padding='same', input_shape=x_train.shape[1:]))\n",
    "    model.add(Conv2D(256, (5, 5), activation='relu', strides=[1, 1], padding='same'))\n",
    "    model.add(MaxPooling2D(pool_size=(2, 2)))\n",
    "    model.add(BatchNormalization())\n",
    "    model.add(Conv2D(384, (3, 3), activation='relu', strides=[1, 1], padding='same'))\n",
    "    model.add(MaxPooling2D(pool_size=(2, 2)))\n",
    "    model.add(Conv2D(384, (3, 3), activation='relu', strides=[1, 1], padding='same'))\n",
    "    model.add(Conv2D(256, (3, 3), activation='relu', strides=[1, 1], padding='same'))\n",
    "    model.add(BatchNormalization())\n",
    "    model.add(AveragePooling2D(pool_size=(2, 2)))\n",
    "    model.add(Dropout(0.5))\n",
    "    model.add(Flatten())\n",
    "    model.add(Dense(10, activation='softmax'))"
   ]
  },
  {
   "cell_type": "code",
   "execution_count": 299,
   "metadata": {
    "scrolled": false
   },
   "outputs": [
    {
     "name": "stdout",
     "output_type": "stream",
     "text": [
      "Train on 40000 samples, validate on 10000 samples\n",
      "Epoch 1/10\n",
      "40000/40000 [==============================] - 451s 11ms/step - loss: 0.3486 - acc: 0.8768 - val_loss: 0.6534 - val_acc: 0.7986\n",
      "Epoch 2/10\n",
      "40000/40000 [==============================] - 434s 11ms/step - loss: 0.3083 - acc: 0.8923 - val_loss: 0.7121 - val_acc: 0.7901\n",
      "Epoch 3/10\n",
      "40000/40000 [==============================] - 437s 11ms/step - loss: 0.2826 - acc: 0.8989 - val_loss: 0.6707 - val_acc: 0.8020\n",
      "Epoch 4/10\n",
      "40000/40000 [==============================] - 443s 11ms/step - loss: 0.2628 - acc: 0.9067 - val_loss: 0.6283 - val_acc: 0.8078\n",
      "Epoch 5/10\n",
      "40000/40000 [==============================] - 444s 11ms/step - loss: 0.2361 - acc: 0.9163 - val_loss: 0.7028 - val_acc: 0.8098\n",
      "Epoch 6/10\n",
      "40000/40000 [==============================] - 443s 11ms/step - loss: 0.2263 - acc: 0.9198 - val_loss: 0.6889 - val_acc: 0.8080\n",
      "Epoch 7/10\n",
      "40000/40000 [==============================] - 446s 11ms/step - loss: 0.2086 - acc: 0.9260 - val_loss: 0.6823 - val_acc: 0.8164\n",
      "Epoch 8/10\n",
      "40000/40000 [==============================] - 436s 11ms/step - loss: 0.1984 - acc: 0.9289 - val_loss: 0.6815 - val_acc: 0.8136\n",
      "Epoch 9/10\n",
      "40000/40000 [==============================] - 437s 11ms/step - loss: 0.1881 - acc: 0.9326 - val_loss: 0.6558 - val_acc: 0.8238\n",
      "Epoch 10/10\n",
      "40000/40000 [==============================] - 440s 11ms/step - loss: 0.1763 - acc: 0.9367 - val_loss: 0.6909 - val_acc: 0.8248\n"
     ]
    },
    {
     "data": {
      "text/plain": [
       "<keras.callbacks.History at 0x1732e6390>"
      ]
     },
     "execution_count": 299,
     "metadata": {},
     "output_type": "execute_result"
    }
   ],
   "source": [
    "AlexNet()\n",
    "sgd = SGD(lr=0.01, decay=1e-6, momentum=0.9, nesterov=True)\n",
    "model.compile(loss='categorical_crossentropy', optimizer='adam', metrics=['accuracy'])\n",
    "\n",
    "model.fit(x_train, y_train, batch_size=32, epochs=10, validation_data=(x_val, y_val))"
   ]
  },
  {
   "cell_type": "code",
   "execution_count": 303,
   "metadata": {
    "scrolled": false
   },
   "outputs": [
    {
     "name": "stdout",
     "output_type": "stream",
     "text": [
      "10000/10000 [==============================] - 34s 3ms/step\n"
     ]
    }
   ],
   "source": [
    "scores, acc = model.evaluate(x_test, y_test, batch_size=32)"
   ]
  },
  {
   "cell_type": "code",
   "execution_count": 301,
   "metadata": {},
   "outputs": [
    {
     "name": "stdout",
     "output_type": "stream",
     "text": [
      "0.8134\n"
     ]
    }
   ],
   "source": [
    "print(acc_adam)"
   ]
  },
  {
   "cell_type": "code",
   "execution_count": 302,
   "metadata": {},
   "outputs": [
    {
     "name": "stdout",
     "output_type": "stream",
     "text": [
      "Train on 40000 samples, validate on 10000 samples\n",
      "Epoch 1/10\n",
      "40000/40000 [==============================] - 541s 14ms/step - loss: 0.2140 - acc: 0.9267 - val_loss: 0.8325 - val_acc: 0.8144\n",
      "Epoch 2/10\n",
      "40000/40000 [==============================] - 513s 13ms/step - loss: 0.1717 - acc: 0.9396 - val_loss: 0.8274 - val_acc: 0.8244\n",
      "Epoch 3/10\n",
      "40000/40000 [==============================] - 487s 12ms/step - loss: 0.1472 - acc: 0.9502 - val_loss: 0.8290 - val_acc: 0.8299\n",
      "Epoch 4/10\n",
      "40000/40000 [==============================] - 451s 11ms/step - loss: 0.1415 - acc: 0.9515 - val_loss: 0.7894 - val_acc: 0.8312\n",
      "Epoch 5/10\n",
      "40000/40000 [==============================] - 445s 11ms/step - loss: 0.1249 - acc: 0.9571 - val_loss: 0.8223 - val_acc: 0.8335\n",
      "Epoch 6/10\n",
      "40000/40000 [==============================] - 440s 11ms/step - loss: 0.1246 - acc: 0.9567 - val_loss: 0.8525 - val_acc: 0.8236\n",
      "Epoch 7/10\n",
      "40000/40000 [==============================] - 467s 12ms/step - loss: 0.1130 - acc: 0.9610 - val_loss: 0.8332 - val_acc: 0.8306\n",
      "Epoch 8/10\n",
      "40000/40000 [==============================] - 483s 12ms/step - loss: 0.1080 - acc: 0.9638 - val_loss: 0.7737 - val_acc: 0.8349\n",
      "Epoch 9/10\n",
      "40000/40000 [==============================] - 532s 13ms/step - loss: 0.1048 - acc: 0.9642 - val_loss: 0.8388 - val_acc: 0.8278\n",
      "Epoch 10/10\n",
      "40000/40000 [==============================] - 468s 12ms/step - loss: 0.0957 - acc: 0.9670 - val_loss: 0.8599 - val_acc: 0.8321\n"
     ]
    },
    {
     "data": {
      "text/plain": [
       "<keras.callbacks.History at 0x1610ccc88>"
      ]
     },
     "execution_count": 302,
     "metadata": {},
     "output_type": "execute_result"
    }
   ],
   "source": [
    "AlexNet()\n",
    "sgd = SGD(lr=0.01, decay=1e-6, momentum=0.9, nesterov=True)\n",
    "model.compile(loss='categorical_crossentropy', optimizer=sgd, metrics=['accuracy'])\n",
    "\n",
    "model.fit(x_train, y_train, batch_size=32, epochs=10, validation_data=(x_val, y_val))"
   ]
  },
  {
   "cell_type": "code",
   "execution_count": 304,
   "metadata": {},
   "outputs": [
    {
     "name": "stdout",
     "output_type": "stream",
     "text": [
      "0.8261\n"
     ]
    }
   ],
   "source": [
    "print(acc)"
   ]
  },
  {
   "cell_type": "code",
   "execution_count": null,
   "metadata": {},
   "outputs": [],
   "source": []
  }
 ],
 "metadata": {
  "kernelspec": {
   "display_name": "Python 3",
   "language": "python",
   "name": "python3"
  },
  "language_info": {
   "codemirror_mode": {
    "name": "ipython",
    "version": 3
   },
   "file_extension": ".py",
   "mimetype": "text/x-python",
   "name": "python",
   "nbconvert_exporter": "python",
   "pygments_lexer": "ipython3",
   "version": "3.6.4"
  }
 },
 "nbformat": 4,
 "nbformat_minor": 2
}
