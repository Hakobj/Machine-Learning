{
 "cells": [
  {
   "cell_type": "code",
   "execution_count": 298,
   "metadata": {},
   "outputs": [],
   "source": [
    "import numpy as np\n",
    "import matplotlib.pyplot as plt\n",
    "import pandas as pd\n",
    "import tensorflow as tf\n",
    "import keras\n",
    "from keras.models import Sequential\n",
    "from keras.layers import Dense, Dropout, Flatten\n",
    "from keras.layers import Conv2D, MaxPooling2D, AveragePooling2D\n",
    "from keras.optimizers import SGD\n",
    "from keras.layers.normalization import BatchNormalization"
   ]
  },
  {
   "cell_type": "code",
   "execution_count": 239,
   "metadata": {},
   "outputs": [],
   "source": [
    "(x_train, y_train), (x_test, y_test) = cifar10.load_data()"
   ]
  },
  {
   "cell_type": "code",
   "execution_count": 240,
   "metadata": {},
   "outputs": [],
   "source": [
    "### random shuffle data ###\n",
    "m = x_train.shape[0]\n",
    "randomize = np.arange(0, m, 1)\n",
    "np.random.shuffle(randomize)\n",
    "x_train = x_train[randomize]\n",
    "y_train = y_train[randomize]\n",
    "# vizualize_images()"
   ]
  },
  {
   "cell_type": "code",
   "execution_count": 241,
   "metadata": {},
   "outputs": [],
   "source": [
    "### Normalization ###\n",
    "x_train = x_train.astype(\"float64\")\n",
    "y_train = y_train.astype(\"float64\")\n",
    "x_test = x_test.astype(\"float64\")\n",
    "y_test = y_test.astype(\"float64\")\n",
    "x_train /= 255\n",
    "x_test /= 255"
   ]
  },
  {
   "cell_type": "code",
   "execution_count": 242,
   "metadata": {},
   "outputs": [],
   "source": [
    "### One-hot encoding data labels ###\n",
    "y_train = keras.utils.to_categorical(y_train, num_classes=10, dtype='float32')\n",
    "y_test = keras.utils.to_categorical(y_test, num_classes=10, dtype='float32')"
   ]
  },
  {
   "cell_type": "code",
   "execution_count": 243,
   "metadata": {},
   "outputs": [],
   "source": [
    "### split data into development, validation and training sets ###\n",
    "x_dev = x_train[:1000]\n",
    "y_dev = y_train[:1000]\n",
    "\n",
    "x_val = x_train[int((4 / 5) * m):]\n",
    "y_val = y_train[int((4 / 5) * m):]\n",
    "\n",
    "x_train = x_train[:int((4 / 5) * m)]\n",
    "y_train = y_train[:int((4 / 5) * m)]"
   ]
  },
  {
   "cell_type": "code",
   "execution_count": 244,
   "metadata": {
    "scrolled": true
   },
   "outputs": [
    {
     "name": "stdout",
     "output_type": "stream",
     "text": [
      "training data shape is: (40000, 32, 32, 3)\n",
      "training label shape is: (40000, 10)\n",
      "validation data shape is: (10000, 32, 32, 3)\n",
      "validation label shape is: (10000, 10)\n",
      "testing data shape is: (10000, 32, 32, 3)\n",
      "testing label shape is: (10000, 10)\n"
     ]
    }
   ],
   "source": [
    "print(\"training data shape is:\", x_train.shape)\n",
    "print(\"training label shape is:\", y_train.shape)\n",
    "print(\"validation data shape is:\", x_val.shape)\n",
    "print(\"validation label shape is:\", y_val.shape)\n",
    "print(\"testing data shape is:\", x_test.shape)\n",
    "print(\"testing label shape is:\", y_test.shape)"
   ]
  },
  {
   "cell_type": "code",
   "execution_count": 116,
   "metadata": {},
   "outputs": [],
   "source": [
    "def vizualize_images():\n",
    "    fig=plt.figure(figsize=(10, 10))\n",
    "    columns = 4\n",
    "    rows = 5\n",
    "\n",
    "    for i in range(1, 21):\n",
    "        img_ind = np.random.randint(1, x_train.shape[0], 21)\n",
    "        fig.add_subplot(rows, columns, i)\n",
    "        plt.imshow(x_train[img_ind[i]])"
   ]
  },
  {
   "cell_type": "code",
   "execution_count": 295,
   "metadata": {},
   "outputs": [],
   "source": [
    "def VGG_like():\n",
    "    model = Sequential()\n",
    "    model.add(BatchNormalization())\n",
    "    model.add(Conv2D(32, (3, 3), activation='relu', strides=[1, 1], padding='same', input_shape=x_train.shape[1:]))\n",
    "    model.add(Conv2D(32, (3, 3), activation='relu', strides=[1, 1], padding='same'))\n",
    "    model.add(MaxPooling2D(pool_size=(2, 2)))\n",
    "    model.add(BatchNormalization())\n",
    "    model.add(Conv2D(64, (3, 3), activation='relu', strides=[1, 1], padding='same'))\n",
    "    model.add(Conv2D(64, (3, 3), activation='relu', strides=[1, 1], padding='same'))\n",
    "    model.add(MaxPooling2D(pool_size=(2, 2)))\n",
    "    model.add(BatchNormalization())\n",
    "    model.add(Dropout(0.25))\n",
    "    model.add(Conv2D(128, (3, 3), activation='relu', strides=[1, 1], padding='same'))\n",
    "    model.add(Conv2D(128, (3, 3), activation='relu', strides=[1, 1], padding='same'))\n",
    "    model.add(BatchNormalization())\n",
    "    model.add(Dropout(0.25))\n",
    "    model.add(Flatten())\n",
    "    model.add(Dense(10, activation='softmax'))"
   ]
  },
  {
   "cell_type": "code",
   "execution_count": 296,
   "metadata": {},
   "outputs": [],
   "source": [
    "def AlexNet():\n",
    "    model = Sequential()\n",
    "    model.add(Conv2D(96, (11, 11), activation='relu', strides=[1, 1], padding='same', input_shape=x_train.shape[1:]))\n",
    "    model.add(Conv2D(256, (5, 5), activation='relu', strides=[1, 1], padding='same'))\n",
    "    model.add(MaxPooling2D(pool_size=(2, 2)))\n",
    "    model.add(BatchNormalization())\n",
    "    model.add(Conv2D(384, (3, 3), activation='relu', strides=[1, 1], padding='same'))\n",
    "    model.add(MaxPooling2D(pool_size=(2, 2)))\n",
    "    model.add(Conv2D(384, (3, 3), activation='relu', strides=[1, 1], padding='same'))\n",
    "    model.add(Conv2D(256, (3, 3), activation='relu', strides=[1, 1], padding='same'))\n",
    "    model.add(BatchNormalization())\n",
    "    model.add(AveragePooling2D(pool_size=(2, 2)))\n",
    "    model.add(Dropout(0.5))\n",
    "    model.add(Flatten())\n",
    "    model.add(Dense(10, activation='softmax'))"
   ]
  },
  {
   "cell_type": "code",
   "execution_count": null,
   "metadata": {
    "scrolled": false
   },
   "outputs": [],
   "source": [
    "AlexNet()\n",
    "sgd = SGD(lr=0.01, decay=1e-6, momentum=0.9, nesterov=True)\n",
    "model.compile(loss='categorical_crossentropy', optimizer='adam', metrics=['accuracy'])\n",
    "\n",
    "model.fit(x_train, y_train, batch_size=32, epochs=10, validation_data=(x_val, y_val))"
   ]
  },
  {
   "cell_type": "code",
   "execution_count": null,
   "metadata": {
    "scrolled": true
   },
   "outputs": [],
   "source": [
    "scores, acc = model.evaluate(x_test, y_test, batch_size=32)"
   ]
  },
  {
   "cell_type": "code",
   "execution_count": null,
   "metadata": {},
   "outputs": [],
   "source": [
    "AlexNet()\n",
    "sgd = SGD(lr=0.01, decay=1e-6, momentum=0.9, nesterov=True)\n",
    "model.compile(loss='categorical_crossentropy', optimizer=sgd, metrics=['accuracy'])\n",
    "\n",
    "model.fit(x_train, y_train, batch_size=32, epochs=10, validation_data=(x_val, y_val))"
   ]
  },
  {
   "cell_type": "code",
   "execution_count": 304,
   "metadata": {},
   "outputs": [
    {
     "name": "stdout",
     "output_type": "stream",
     "text": [
      "0.8261\n"
     ]
    }
   ],
   "source": [
    "print(acc)"
   ]
  },
  {
   "cell_type": "code",
   "execution_count": 308,
   "metadata": {},
   "outputs": [
    {
     "data": {
      "text/plain": [
       "array([3, 8, 8, ..., 5, 1, 7])"
      ]
     },
     "execution_count": 308,
     "metadata": {},
     "output_type": "execute_result"
    }
   ],
   "source": [
    "model.predict_classes(x_test)"
   ]
  }
 ],
 "metadata": {
  "kernelspec": {
   "display_name": "Python 3",
   "language": "python",
   "name": "python3"
  },
  "language_info": {
   "codemirror_mode": {
    "name": "ipython",
    "version": 3
   },
   "file_extension": ".py",
   "mimetype": "text/x-python",
   "name": "python",
   "nbconvert_exporter": "python",
   "pygments_lexer": "ipython3",
   "version": "3.6.4"
  }
 },
 "nbformat": 4,
 "nbformat_minor": 2
}
