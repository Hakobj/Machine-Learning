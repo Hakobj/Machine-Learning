{
 "cells": [
  {
   "cell_type": "code",
   "execution_count": 5,
   "metadata": {},
   "outputs": [],
   "source": [
    "import pandas as pd\n",
    "import numpy as np\n",
    "import matplotlib.pyplot as plt\n",
    "import tensorflow as tf\n",
    "mnist = tf.keras.datasets.mnist"
   ]
  },
  {
   "cell_type": "code",
   "execution_count": 2,
   "metadata": {},
   "outputs": [],
   "source": [
    "train = pd.read_csv(\"all/train.csv\")\n",
    "test = pd.read_csv(\"all/test.csv\")"
   ]
  },
  {
   "cell_type": "code",
   "execution_count": 3,
   "metadata": {},
   "outputs": [],
   "source": [
    "train = pd.DataFrame.as_matrix(train)"
   ]
  },
  {
   "cell_type": "code",
   "execution_count": 6,
   "metadata": {},
   "outputs": [],
   "source": [
    "(_, _),(X_test, Y_test) = mnist.load_data()"
   ]
  },
  {
   "cell_type": "code",
   "execution_count": 7,
   "metadata": {
    "scrolled": true
   },
   "outputs": [],
   "source": [
    "X_test = X_test.astype(\"int64\")\n",
    "Y_test = Y_test.astype(\"int64\")"
   ]
  },
  {
   "cell_type": "code",
   "execution_count": 8,
   "metadata": {},
   "outputs": [],
   "source": [
    "np.random.shuffle(train)"
   ]
  },
  {
   "cell_type": "code",
   "execution_count": 9,
   "metadata": {},
   "outputs": [],
   "source": [
    "X_original = train[:, 1:]\n",
    "Y_original = train[:, 0]\n",
    "\n",
    "# X_original = X_original.astype(\"float64\")\n",
    "# Y_original = Y_original.astype(\"float64\")"
   ]
  },
  {
   "cell_type": "code",
   "execution_count": 10,
   "metadata": {
    "scrolled": true
   },
   "outputs": [
    {
     "name": "stdout",
     "output_type": "stream",
     "text": [
      "(420, 28, 28) (420,)\n",
      "int64 int64\n"
     ]
    }
   ],
   "source": [
    "X_original = X_original.reshape(-1, 28, 28)\n",
    "X_test = X_test.reshape(-1, 28, 28)\n",
    "\n",
    "m = X_original.shape[0]\n",
    "\n",
    "X_train = X_original[:int((99 / 100) * m), :, :]\n",
    "Y_train = Y_original[:int((99 / 100) * m)]\n",
    "\n",
    "X_val = X_original[int((99 / 100) * m):m, :, :]\n",
    "Y_val = Y_original[int((99 / 100) * m):m]\n",
    "\n",
    "print(X_val.shape, Y_val.shape)\n",
    "print(X_train.dtype, X_test.dtype)"
   ]
  },
  {
   "cell_type": "code",
   "execution_count": 11,
   "metadata": {},
   "outputs": [],
   "source": [
    "def L_p_distance(test, train, p):\n",
    "    d = np.zeros(train.shape[0])\n",
    "    for i in range(train.shape[0]):\n",
    "        d[i] = np.power(np.sum(np.power((test - train[i]) / 255, p)), 1 / p)\n",
    "\n",
    "    dist = dict()\n",
    "    for i in range(len(d)):\n",
    "        dist[i] = d[i]\n",
    "    \n",
    "    return dist"
   ]
  },
  {
   "cell_type": "code",
   "execution_count": 12,
   "metadata": {},
   "outputs": [],
   "source": [
    "def knn(labels, d, k):\n",
    "    ### getting k min values ###\n",
    "    sorted_d = sorted((value, key) for (key,value) in d.items())\n",
    "    min_k = sorted_d[:k] \n",
    "    min_k_ind = np.zeros(k)\n",
    "\n",
    "    ### getting k min values' indexes ###\n",
    "    for i in range(len(min_k)):\n",
    "        min_k_ind[i] = min_k[i][1]\n",
    "\n",
    "    min_k_ind = min_k_ind.astype('int64')\n",
    "\n",
    "    ### classifying image ###\n",
    "    min_k_val = np.take(labels, min_k_ind)\n",
    "    counts = np.bincount(min_k_val)\n",
    "    digit = np.argmax(counts)\n",
    "    \n",
    "    return digit"
   ]
  },
  {
   "cell_type": "code",
   "execution_count": 13,
   "metadata": {},
   "outputs": [],
   "source": [
    "def evaluate_model(x_test, y_train, x_train, k, p):\n",
    "    m = x_test.shape[0]\n",
    "    distances = {}\n",
    "    digits = np.zeros(x_test.shape[0])\n",
    "\n",
    "    for i in range(m):\n",
    "        distances = L_p_distance(x_test[i], x_train, p)\n",
    "        digits[i] = knn(y_train, distances, k)\n",
    "        \n",
    "    return digits"
   ]
  },
  {
   "cell_type": "code",
   "execution_count": 14,
   "metadata": {
    "scrolled": true
   },
   "outputs": [],
   "source": [
    "digits = evaluate_model(X_test[:500], Y_train, X_train, 1, 2)"
   ]
  },
  {
   "cell_type": "code",
   "execution_count": 15,
   "metadata": {},
   "outputs": [],
   "source": [
    "digits = digits.astype(\"int\")"
   ]
  },
  {
   "cell_type": "code",
   "execution_count": 16,
   "metadata": {
    "scrolled": true
   },
   "outputs": [
    {
     "name": "stdout",
     "output_type": "stream",
     "text": [
      "Accuracy is :  98.2 %\n"
     ]
    }
   ],
   "source": [
    "print(\"Accuracy is : \", np.sum(digits == Y_test[:500]) / len(digits) * 100, \"%\")"
   ]
  },
  {
   "cell_type": "code",
   "execution_count": 229,
   "metadata": {},
   "outputs": [
    {
     "data": {
      "text/plain": [
       "array([7, 2])"
      ]
     },
     "execution_count": 229,
     "metadata": {},
     "output_type": "execute_result"
    }
   ],
   "source": [
    "digits"
   ]
  },
  {
   "cell_type": "code",
   "execution_count": 266,
   "metadata": {},
   "outputs": [
    {
     "data": {
      "text/plain": [
       "<matplotlib.image.AxesImage at 0x12e79d208>"
      ]
     },
     "execution_count": 266,
     "metadata": {},
     "output_type": "execute_result"
    },
    {
     "data": {
      "image/png": "[encoded data removed]",
      "text/plain": [
       "<Figure size 432x288 with 1 Axes>"
      ]
     },
     "metadata": {},
     "output_type": "display_data"
    }
   ],
   "source": [
    "plt.imshow(X_test[1])"
   ]
  },
  {
   "cell_type": "code",
   "execution_count": 267,
   "metadata": {},
   "outputs": [
    {
     "data": {
      "text/plain": [
       "-255"
      ]
     },
     "execution_count": 267,
     "metadata": {},
     "output_type": "execute_result"
    }
   ],
   "source": [
    "np.min(X_test[1] - X_train)"
   ]
  },
  {
   "cell_type": "code",
   "execution_count": 265,
   "metadata": {},
   "outputs": [
    {
     "data": {
      "text/plain": [
       "<matplotlib.image.AxesImage at 0x12e720908>"
      ]
     },
     "execution_count": 265,
     "metadata": {},
     "output_type": "execute_result"
    },
    {
     "data": {
      "image/png": "[encoded data removed]",
      "text/plain": [
       "<Figure size 432x288 with 1 Axes>"
      ]
     },
     "metadata": {},
     "output_type": "display_data"
    }
   ],
   "source": [
    "plt.imshow(X_train[1438])"
   ]
  }
 ],
 "metadata": {
  "kernelspec": {
   "display_name": "Python 3",
   "language": "python",
   "name": "python3"
  },
  "language_info": {
   "codemirror_mode": {
    "name": "ipython",
    "version": 3
   },
   "file_extension": ".py",
   "mimetype": "text/x-python",
   "name": "python",
   "nbconvert_exporter": "python",
   "pygments_lexer": "ipython3",
   "version": "3.6.4"
  }
 },
 "nbformat": 4,
 "nbformat_minor": 2
}
