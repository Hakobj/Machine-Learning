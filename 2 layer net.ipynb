{
 "cells": [
  {
   "cell_type": "code",
   "execution_count": 1,
   "metadata": {},
   "outputs": [],
   "source": [
    "import pandas as pd\n",
    "import numpy as np\n",
    "import matplotlib.pyplot as plt\n",
    "import tensorflow as tf\n",
    "mnist = tf.keras.datasets.mnist\n",
    "from sklearn.utils import shuffle"
   ]
  },
  {
   "cell_type": "code",
   "execution_count": 2,
   "metadata": {},
   "outputs": [],
   "source": [
    "train = pd.read_csv(\"all/train.csv\")\n",
    "test = pd.read_csv(\"all/test.csv\")"
   ]
  },
  {
   "cell_type": "code",
   "execution_count": 3,
   "metadata": {
    "scrolled": true
   },
   "outputs": [],
   "source": [
    "train = pd.DataFrame.as_matrix(train)"
   ]
  },
  {
   "cell_type": "code",
   "execution_count": 4,
   "metadata": {},
   "outputs": [],
   "source": [
    "(_, _),(X_test, Y_test) = mnist.load_data()"
   ]
  },
  {
   "cell_type": "code",
   "execution_count": 5,
   "metadata": {
    "scrolled": true
   },
   "outputs": [],
   "source": [
    "X_test = X_test.astype(\"int64\")\n",
    "Y_test = Y_test.astype(\"int64\")"
   ]
  },
  {
   "cell_type": "code",
   "execution_count": 6,
   "metadata": {},
   "outputs": [],
   "source": [
    "np.random.shuffle(train)"
   ]
  },
  {
   "cell_type": "code",
   "execution_count": 7,
   "metadata": {},
   "outputs": [],
   "source": [
    "X_original = train[:, 1:]\n",
    "Y_original = train[:, 0]"
   ]
  },
  {
   "cell_type": "code",
   "execution_count": 8,
   "metadata": {
    "scrolled": false
   },
   "outputs": [
    {
     "name": "stdout",
     "output_type": "stream",
     "text": [
      "(8400, 28, 28) (8400,)\n",
      "(3000, 28, 28) (3000,)\n",
      "(10000, 28, 28) (10000,)\n"
     ]
    }
   ],
   "source": [
    "X_original = X_original.reshape(-1, 28, 28)\n",
    "X_test = X_test.reshape(-1, 28, 28)\n",
    "X_original -= np.mean(X_original, axis=0).astype(\"int64\")\n",
    "X_original -= np.mean(X_original).astype(\"int64\")\n",
    "\n",
    "m = X_original.shape[0]\n",
    "\n",
    "X_train = X_original[:int((4 / 5) * m), :, :]\n",
    "Y_train = Y_original[:int((4 / 5) * m)]\n",
    "\n",
    "X_dev = X_original[:3000, :]\n",
    "Y_dev = Y_original[:3000]\n",
    "\n",
    "X_val = X_original[int((4 / 5) * m):m, :, :]\n",
    "Y_val = Y_original[int((4 / 5) * m):m]\n",
    "\n",
    "print(X_val.shape, Y_val.shape)\n",
    "print(X_dev.shape, Y_dev.shape)\n",
    "print(X_test.shape, Y_test.shape)"
   ]
  },
  {
   "cell_type": "code",
   "execution_count": 9,
   "metadata": {},
   "outputs": [
    {
     "name": "stdout",
     "output_type": "stream",
     "text": [
      "Origninal training data shape:  (42000, 784)\n",
      "Training data shape:  (33600, 784)\n",
      "Validation data shape:  (8400, 784)\n",
      "Test data shape:  (10000, 784)\n",
      "dev data shape:  (3000, 784)\n"
     ]
    }
   ],
   "source": [
    "# Preprocessing: reshape the image data into rows\n",
    "X_original = np.reshape(X_original, (X_original.shape[0], -1)).astype(\"float64\")\n",
    "X_train = np.reshape(X_train, (X_train.shape[0], -1)).astype(\"float64\")\n",
    "X_val = np.reshape(X_val, (X_val.shape[0], -1)).astype(\"float64\")\n",
    "X_test = np.reshape(X_test, (X_test.shape[0], -1)).astype(\"float64\")\n",
    "X_dev = np.reshape(X_dev, (X_dev.shape[0], -1)).astype(\"float64\")\n",
    "\n",
    "# As a sanity check, print out the shapes of the data\n",
    "print('Origninal training data shape: ', X_original.shape)\n",
    "print('Training data shape: ', X_train.shape)\n",
    "print('Validation data shape: ', X_val.shape)\n",
    "print('Test data shape: ', X_test.shape)\n",
    "print('dev data shape: ', X_dev.shape)"
   ]
  },
  {
   "cell_type": "code",
   "execution_count": 10,
   "metadata": {},
   "outputs": [],
   "source": [
    "X_dev /= 255\n",
    "X_train /= 255\n",
    "X_val /= 255\n",
    "X_original /= 255\n",
    "X_test /= 255"
   ]
  },
  {
   "cell_type": "code",
   "execution_count": 11,
   "metadata": {},
   "outputs": [],
   "source": [
    "def relu(x):\n",
    "    return np.maximum(0, x)"
   ]
  },
  {
   "cell_type": "code",
   "execution_count": 12,
   "metadata": {},
   "outputs": [],
   "source": [
    "def softmax(y):\n",
    "    m = y.shape[0]\n",
    "    n = y.shape[1]\n",
    "    res = np.zeros((m, n))\n",
    "    for i in range(m):\n",
    "        res[i] = np.exp(y[i]) / np.sum(np.exp(y[i]))\n",
    "        \n",
    "    return res\n",
    "\n",
    "result = softmax(np.random.random((100, 10)))"
   ]
  },
  {
   "cell_type": "code",
   "execution_count": 81,
   "metadata": {},
   "outputs": [],
   "source": [
    "def param_init(n_in, n_hid, n_classes):\n",
    "\n",
    "    W1 = np.random.randn(n_in, n_hid) / np.sqrt(n_in + n_hid)\n",
    "    b1 = np.zeros((1, n_hid))\n",
    "    W2 = np.random.randn(n_hid, n_classes) / np.sqrt(n_hid + n_classes)\n",
    "    b2 = np.zeros((1, n_classes))\n",
    "    \n",
    "    return W1, b1, W2, b2"
   ]
  },
  {
   "cell_type": "code",
   "execution_count": 14,
   "metadata": {
    "scrolled": true
   },
   "outputs": [],
   "source": [
    "def forward_propagation(x, W1, b1, W2, b2, y):\n",
    "    m = x.shape[0]\n",
    "    z1 = np.dot(x, W1) + b1\n",
    "    a1 = relu(z1) # shape is (m, 8)\n",
    "    z2 = np.dot(a1, W2) + b2\n",
    "    a2 = softmax(z2) # shape is (m ,10)\n",
    "    \n",
    "    return z1, a1, z2, a2"
   ]
  },
  {
   "cell_type": "code",
   "execution_count": 15,
   "metadata": {},
   "outputs": [],
   "source": [
    "def compute_loss(a2, y, W1, W2, reg):\n",
    "    m = y.shape[0]\n",
    "    L = np.log(a2[range(m), y]) ### m=1 ?\n",
    "    loss = -1 / m * np.sum(L) + 0.5 * reg * (np.sum(W1 ** 2) + np.sum(W2 ** 2))\n",
    "    \n",
    "    return loss"
   ]
  },
  {
   "cell_type": "code",
   "execution_count": 16,
   "metadata": {},
   "outputs": [],
   "source": [
    "def back_propagation(a2, y, W2, z1, a1, x):\n",
    "    m = x.shape[0]\n",
    "    dz2 = np.copy(a2)\n",
    "    dz2[range(m), y] -= 1\n",
    "    dW2 = (1 / m) * np.dot(a1.T, dz2)\n",
    "    db2 = (1 / m) * np.sum(dz2, axis=0)\n",
    "    d_relu = np.zeros((m, dW2.shape[0]))\n",
    "    d_relu[z1 > 0] = 1\n",
    "    dz1 = np.dot(dz2, W2.T) * d_relu\n",
    "    dW1 = (1 / m) * np.dot(x.T, dz1)\n",
    "    db1 = (1 / m) * np.sum(dz1, axis=0)\n",
    "    \n",
    "    return dW2, db2, dW1, db1"
   ]
  },
  {
   "cell_type": "code",
   "execution_count": 17,
   "metadata": {},
   "outputs": [],
   "source": [
    "def param_update(W1, b1, W2, b2, learning_rate, reg):\n",
    "    m = W1.shape[1]\n",
    "    W1 -= learning_rate * (dW1 + (reg / m) * (W1))\n",
    "    b1 -= learning_rate * db1\n",
    "    W2 -= learning_rate * (dW2 + (reg / m) * (W2))\n",
    "    b2 -= learning_rate * db2\n",
    "    \n",
    "    return W1, b1, W2, b2"
   ]
  },
  {
   "cell_type": "code",
   "execution_count": 18,
   "metadata": {},
   "outputs": [],
   "source": [
    "def train(x, y, learning_rate, reg, epochs):\n",
    "    m = x.shape[0]\n",
    "    n_input = x.shape[1]\n",
    "    L = np.array([])\n",
    "    W1, b1, W2, b2 = param_init(n_input, n_hid=18, n_classes=10)\n",
    "\n",
    "    for i in range(epochs):\n",
    "        z1, a1, z2, a2 = forward_propagation(x, W1, b1, W2, b2, y)\n",
    "        loss = compute_loss(a2, y, W1, W2, reg)\n",
    "        L = np.append(L, loss)\n",
    "        dW2, db2, dW1, db1 = back_propagation(a2, y, W2, z1, a1, x)\n",
    "        W1, b1, W2, b2 = param_update(W1, b1, W2, b2, learning_rate, reg)\n",
    "        print(\"epoch: \", i+1, \", loss is : \", loss, \"da2[0] is \", a2[0])\n",
    "    \n",
    "    return a2, loss, L"
   ]
  },
  {
   "cell_type": "code",
   "execution_count": 83,
   "metadata": {
    "scrolled": false
   },
   "outputs": [
    {
     "name": "stdout",
     "output_type": "stream",
     "text": [
      "epoch  1 train loss is : 2.432341997950336  generalization loss is : 2.3246416945660036 test accuracy is:  29.06\n",
      "epoch  2 train loss is : 2.320399254264531  generalization loss is : 2.223961496582903 test accuracy is:  40.64\n",
      "epoch  3 train loss is : 2.214282198051403  generalization loss is : 2.1254921897229586 test accuracy is:  45.34\n",
      "epoch  4 train loss is : 2.1068924270344445  generalization loss is : 2.029585359330852 test accuracy is:  48.88\n",
      "epoch  5 train loss is : 2.000122116643818  generalization loss is : 1.93757535518882 test accuracy is:  52.39\n",
      "epoch  6 train loss is : 1.8962428810240037  generalization loss is : 1.8511587433786623 test accuracy is:  54.84\n",
      "epoch  7 train loss is : 1.7979270215519625  generalization loss is : 1.7720177790279572 test accuracy is:  56.93\n",
      "epoch  8 train loss is : 1.7077303236081567  generalization loss is : 1.7008605581554532 test accuracy is:  58.54\n",
      "epoch  9 train loss is : 1.626642677431051  generalization loss is : 1.637529279347441 test accuracy is:  60.1\n",
      "epoch  10 train loss is : 1.5543732515872812  generalization loss is : 1.581481717656461 test accuracy is:  61.36\n",
      "epoch  11 train loss is : 1.4901260580632139  generalization loss is : 1.5321747944805453 test accuracy is:  62.46\n",
      "epoch  12 train loss is : 1.4330172447568676  generalization loss is : 1.4890415733403004 test accuracy is:  63.31\n",
      "epoch  13 train loss is : 1.3822236878366367  generalization loss is : 1.4514910710607367 test accuracy is:  63.86\n",
      "epoch  14 train loss is : 1.3370375909284897  generalization loss is : 1.418898437619311 test accuracy is:  64.36\n",
      "epoch  15 train loss is : 1.296816698676503  generalization loss is : 1.3906449859381902 test accuracy is:  64.7\n",
      "epoch  16 train loss is : 1.2610088008389604  generalization loss is : 1.3661557604381558 test accuracy is:  65.26\n",
      "epoch  17 train loss is : 1.229069023452608  generalization loss is : 1.3448978557388254 test accuracy is:  65.58\n",
      "epoch  18 train loss is : 1.2005346027833943  generalization loss is : 1.326423316781953 test accuracy is:  65.84\n",
      "epoch  19 train loss is : 1.1749689445796552  generalization loss is : 1.3103302104163148 test accuracy is:  66.2\n",
      "epoch  20 train loss is : 1.152005887697435  generalization loss is : 1.296296097668537 test accuracy is:  66.43\n",
      "epoch  21 train loss is : 1.1313154648763197  generalization loss is : 1.284017842390885 test accuracy is:  66.72\n",
      "epoch  22 train loss is : 1.1126184657303366  generalization loss is : 1.2732639729345248 test accuracy is:  66.74\n",
      "epoch  23 train loss is : 1.0956793222291097  generalization loss is : 1.2638551758222345 test accuracy is:  66.83\n",
      "epoch  24 train loss is : 1.0802889376743465  generalization loss is : 1.2556082447383408 test accuracy is:  66.85\n",
      "epoch  25 train loss is : 1.0662710647167635  generalization loss is : 1.248389849999577 test accuracy is:  66.97\n",
      "epoch  26 train loss is : 1.0534720330122882  generalization loss is : 1.2420806753766263 test accuracy is:  67.03\n",
      "Maximum test accuracy is : 67.03 % and it was achieved during 25 iteration\n"
     ]
    }
   ],
   "source": [
    "epochs = 50\n",
    "reg = 0.01\n",
    "learning_rate = 0.5\n",
    "learning_rate_decay = 0.95\n",
    "n_input = X_train.shape[1]\n",
    "L = np.array([])\n",
    "\n",
    "train_acc = np.array([])\n",
    "test_acc = np.array([])\n",
    "\n",
    "train_loss = np.array([])\n",
    "test_loss = np.array([])\n",
    "\n",
    "W1, b1, W2, b2 = param_init(n_input, n_hid=20, n_classes=10)\n",
    "for i in range(epochs):\n",
    "    z1, a1, z2, a2 = forward_propagation(X_train, W1, b1, W2, b2, Y_train)\n",
    "    train_loss = np.append(train_loss, compute_loss(a2, Y_train, W1, W2, reg))\n",
    "    dW2, db2, dW1, db1 = back_propagation(a2, Y_train, W2, z1, a1, X_train)\n",
    "    W1, b1, W2, b2 = param_update(W1, b1, W2, b2, learning_rate, reg)\n",
    "#     print(np.mean(dW1) / W1)\n",
    "    L = np.append(L, train_loss)\n",
    "    learning_rate *= learning_rate_decay\n",
    "    ### compute test loss ###\n",
    "    _, _, _, a2_test = forward_propagation(X_test, W1, b1, W2, b2, Y_test)\n",
    "    test_loss = np.append(test_loss, compute_loss(a2_test, Y_test, W1, W2, reg))\n",
    "    \n",
    "    train_acc = np.append(train_acc, accuracy(Y_train, a2))\n",
    "    test_acc = np.append(test_acc, test_accuracy(W1, b1, W2, b2))\n",
    "    ### early stopping\n",
    "    if i>=1 and test_loss[i] < test_loss[i - 1]:\n",
    "        break\n",
    "    print(\"epoch \", i+1, \"train loss is :\", train_loss[i], \" generalization loss is :\", test_loss[i], \"test accuracy is: \", test_acc[i])\n",
    "print(\"Maximum test accuracy is :\", np.max(test_acc), \"% and it was achieved during\", np.argmax(test_acc), \"iteration\")"
   ]
  },
  {
   "cell_type": "code",
   "execution_count": 22,
   "metadata": {},
   "outputs": [],
   "source": [
    "def accuracy(y, y_pred):\n",
    "    count = 0\n",
    "    m = y.shape[0]\n",
    "    for i in range(m):\n",
    "        count += (y[i] == np.argmax(y_pred[i]))\n",
    "    acc = count * 100 / m\n",
    "    \n",
    "    return acc"
   ]
  },
  {
   "cell_type": "code",
   "execution_count": 84,
   "metadata": {
    "scrolled": false
   },
   "outputs": [
    {
     "data": {
      "text/plain": [
       "[<matplotlib.lines.Line2D at 0x11c85cef0>]"
      ]
     },
     "execution_count": 84,
     "metadata": {},
     "output_type": "execute_result"
    },
    {
     "data": {
      "image/png": "[encoded data removed]",
      "text/plain": [
       "<Figure size 432x288 with 1 Axes>"
      ]
     },
     "metadata": {},
     "output_type": "display_data"
    }
   ],
   "source": [
    "plt.xlabel(\"Number of epochs\")\n",
    "plt.ylabel(\"Loss\")\n",
    "plt.plot(test_loss)\n",
    "plt.plot(train_loss)"
   ]
  },
  {
   "cell_type": "code",
   "execution_count": 85,
   "metadata": {},
   "outputs": [
    {
     "data": {
      "text/plain": [
       "80.39880952380952"
      ]
     },
     "execution_count": 85,
     "metadata": {},
     "output_type": "execute_result"
    }
   ],
   "source": [
    "accuracy(Y_train, a2)"
   ]
  },
  {
   "cell_type": "code",
   "execution_count": 23,
   "metadata": {
    "scrolled": false
   },
   "outputs": [],
   "source": [
    "def test_accuracy(W1, b1, W2, b2):\n",
    "    _, _, _, a2_test = forward_propagation(X_test, W1, b1, W2, b2, Y_test)\n",
    "    loss_test = compute_loss(a2_test, Y_test, W1, W2, reg)\n",
    "    test_acc = accuracy(Y_test, a2_test)\n",
    "    return test_acc"
   ]
  }
 ],
 "metadata": {
  "kernelspec": {
   "display_name": "Python 3",
   "language": "python",
   "name": "python3"
  },
  "language_info": {
   "codemirror_mode": {
    "name": "ipython",
    "version": 3
   },
   "file_extension": ".py",
   "mimetype": "text/x-python",
   "name": "python",
   "nbconvert_exporter": "python",
   "pygments_lexer": "ipython3",
   "version": "3.6.4"
  }
 },
 "nbformat": 4,
 "nbformat_minor": 2
}
